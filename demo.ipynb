{
 "cells": [
  {
   "cell_type": "markdown",
   "metadata": {},
   "source": [
    "# Demo\n",
    "\n",
    "This notebook contains code to generate RF pulses with SLR and SLfRank."
   ]
  },
  {
   "cell_type": "code",
   "execution_count": 1,
   "metadata": {},
   "outputs": [],
   "source": [
    "%matplotlib notebook\n",
    "import numpy as np\n",
    "import matplotlib.pyplot as plt\n",
    "import cvxpy as cp\n",
    "import slfrank\n",
    "import sigpy as sp\n",
    "import sigpy.mri.rf as rf"
   ]
  },
  {
   "cell_type": "markdown",
   "metadata": {},
   "source": [
    "# Set parameters"
   ]
  },
  {
   "cell_type": "code",
   "execution_count": 4,
   "metadata": {},
   "outputs": [],
   "source": [
    "# Use SigPy as solver\n",
    "n = 64  # Pulse length\n",
    "tb = 8  # Time bandwidth\n",
    "d1 = 0.01  # Passband ripple\n",
    "d2 = 0.01  # Stopband ripple\n",
    "solver = 'PDHG'\n",
    "\n",
    "# To use CVXPy as solver, comment out the following\n",
    "# CVXPy gives more accurate solutions, but is much slower.\n",
    "# if 'MOSEK' in cp.installed_solvers():\n",
    "#     solver = 'MOSEK'\n",
    "# else:\n",
    "#     solver = 'SCS'\n",
    "# n = 16  # Pulse length\n",
    "# tb = 4  # Time bandwidth\n",
    "# d1 = 0.01  # Passband ripple\n",
    "# d2 = 0.01  # Stopband ripple"
   ]
  },
  {
   "cell_type": "markdown",
   "metadata": {},
   "source": [
    "## Generate Pulses"
   ]
  },
  {
   "cell_type": "code",
   "execution_count": null,
   "metadata": {
    "scrolled": false
   },
   "outputs": [
    {
     "name": "stdout",
     "output_type": "stream",
     "text": [
      "Pulse Type:\tse\n",
      "Phase:\t\tlinear\n"
     ]
    },
    {
     "data": {
      "application/vnd.jupyter.widget-view+json": {
       "model_id": "6a09cb13567747d597c2c8dfcb7b61d3",
       "version_major": 2,
       "version_minor": 0
      },
      "text/plain": [
       "DesignPaulynomials:   0%|          | 0/3000 [00:00<?, ?it/s]"
      ]
     },
     "metadata": {},
     "output_type": "display_data"
    }
   ],
   "source": [
    "for ptype, phase in [('ex', 'linear'), ('ex', 'min'), ('sat', 'max'), ('inv', 'min'), ('se', 'linear')]:\n",
    "    print(f'Pulse Type:\\t{ptype}')\n",
    "    print(f'Phase:\\t\\t{phase}')\n",
    "    if phase == 'linear':\n",
    "        ftype = 'pm'\n",
    "    else:\n",
    "        ftype = phase\n",
    "\n",
    "    pulse_slr = rf.dzrf(n=n, tb=tb, ptype=ptype, ftype=ftype, d1=d1, d2=d2)\n",
    "    pulse_slfrank = slfrank.design_rf(n=n, tb=tb, ptype=ptype, phase=phase,\n",
    "                                      d1=d1, d2=d2, solver=solver)\n",
    "\n",
    "    print(f'SLR:\\t\\tEnergy={np.sum(np.abs(pulse_slr)**2)}\\tPeak={np.abs(pulse_slr).max()}')\n",
    "    print(f'SLfRank:\\tEnergy={np.sum(np.abs(pulse_slfrank)**2)}\\tPeak={np.abs(pulse_slfrank).max()}')\n",
    "\n",
    "    fig = slfrank.plot_slr_pulses(\n",
    "        pulse_slr, pulse_slfrank, ptype=ptype, phase=phase, \n",
    "        omega_range=[-1, 1], tb=tb, d1=d1, d2=d2)\n",
    "    plt.tight_layout()\n",
    "    plt.show()\n",
    "    fig.savefig(f'{ptype}_{phase}.pdf')"
   ]
  },
  {
   "cell_type": "code",
   "execution_count": null,
   "metadata": {},
   "outputs": [],
   "source": []
  }
 ],
 "metadata": {
  "kernelspec": {
   "display_name": "Python 3",
   "language": "python",
   "name": "python3"
  },
  "language_info": {
   "codemirror_mode": {
    "name": "ipython",
    "version": 3
   },
   "file_extension": ".py",
   "mimetype": "text/x-python",
   "name": "python",
   "nbconvert_exporter": "python",
   "pygments_lexer": "ipython3",
   "version": "3.9.2"
  }
 },
 "nbformat": 4,
 "nbformat_minor": 4
}
